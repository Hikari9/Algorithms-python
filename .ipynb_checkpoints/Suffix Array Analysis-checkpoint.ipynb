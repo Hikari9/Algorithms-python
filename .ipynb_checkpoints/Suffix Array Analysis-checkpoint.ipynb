{
 "cells": [
  {
   "cell_type": "markdown",
   "metadata": {},
   "source": [
    "# Suffix Array Algorithms Analysis\n",
    "\n",
    "\n",
    "This notebook summarizes analysis for certain algorithms that build the [suffix array](\n",
    "https://en.wikipedia.org/wiki/Suffix_array) data structure, classified according to their complexities.\n",
    "\n",
    "1. **Brute Force** - *O(n^2)*\n",
    "2. **Radix Sort** - *O(n log^2 n)*\n",
    "3. **Counting Sort** - *O(n log n)*\n",
    "4. **DC3 Algorithm** - *O(kn)*\n",
    "\n",
    "Conclusion summary:\n",
    "- Brute Force special case is best for all (letters == 1).\n",
    "- Brute Force average complexity is inversely proportional to the increase of letters if (letters >= 2).\n",
    "- Brute Force is **best** for small cases (length <= 100) in terms of average complexity.\n",
    "- DC3 is **best** for medium cases (100 <= length <= 1000) with (2 <= letters < 10).\n",
    "- Brute Force is **best** for medium cases (100 <= length <= 1000) with (letters >= 10).\n",
    "- DC3 is **best** for all large test cases (length > 1000) with (letters >= 2).\n",
    "- Counting Sort has the same best case and worst case *O(n log n)* complexity.\n",
    "- Radix Sort beats Counting Sort's average case complexity.\n"
   ]
  },
  {
   "cell_type": "code",
   "execution_count": 2,
   "metadata": {
    "collapsed": false
   },
   "outputs": [],
   "source": [
    "from algorithm.strings.suffix import SuffixArray\n",
    "from algorithm.html import Table\n",
    "from time import time"
   ]
  },
  {
   "cell_type": "code",
   "execution_count": 15,
   "metadata": {
    "collapsed": false
   },
   "outputs": [],
   "source": [
    "# Testing\n",
    "trial_text = []\n",
    "statistics = Table()\n",
    "\n",
    "def generate_text(trials=10, text_length=1000, letters=26):\n",
    "    print 'Trials:', trials\n",
    "    print 'Text length:', text_length\n",
    "    print 'Letters:', letters\n",
    "    print ''\n",
    "    from algorithm.strings.utils import random_text\n",
    "    global trial_text\n",
    "    trial_text = [random_text(length=text_length, letters=letters) for i in xrange(trials)]\n",
    "    \n",
    "results = {}\n",
    "best = []\n",
    "\n",
    "def perform_algorithm(algorithm):\n",
    "    \n",
    "    global results\n",
    "    results[algorithm] = []\n",
    "    \n",
    "    # profile time\n",
    "    time_elapsed = 0\n",
    "    total_text_length = 0\n",
    "    total_letters = set()\n",
    "    \n",
    "    \n",
    "    for text in trial_text:\n",
    "        time_start = time()\n",
    "        \n",
    "        # algorithm result\n",
    "        result = SuffixArray(text, algo=algorithm)\n",
    "        \n",
    "        # collect time statistics\n",
    "        delta_time = time() - time_start\n",
    "        time_elapsed += delta_time\n",
    "        \n",
    "        # collect text statistics\n",
    "        total_text_length += len(text)\n",
    "        total_letters.update(list(text))\n",
    "        \n",
    "        # append to results\n",
    "        results[algorithm].append(result)\n",
    "    \n",
    "    \n",
    "    time_per_trial = time_elapsed / len(trial_text)\n",
    "    data = {\n",
    "        'algorithm': algorithm,\n",
    "        'trials': len(trial_text),\n",
    "        'total time': time_elapsed,\n",
    "        'time per trial': time_per_trial,\n",
    "        'letters': len(total_letters),\n",
    "        'length': total_text_length / len(trial_text),\n",
    "    }\n",
    "    \n",
    "    global statistics, best\n",
    "    statistics.append(data)\n",
    "    best.append((time_elapsed, algorithm))\n",
    "\n",
    "def test(trials=10, text_length=10000, letters=5, exclude=[]):\n",
    "    global results, best\n",
    "    generate_text(trials=trials, text_length=text_length, letters=letters)\n",
    "    results.clear()\n",
    "    best = []\n",
    "    for algorithm in SuffixArray.algorithms:\n",
    "        if algorithm in exclude: continue\n",
    "        perform_algorithm(algorithm)\n",
    "    L = list(results)\n",
    "    for i in xrange(len(L)):\n",
    "        for j in xrange(i + 1, len(L)):\n",
    "            algo1, algo2 = L[i], L[j]\n",
    "            if results[algo1] != results[algo2]:\n",
    "                print \"WARNING! %s and %s have different suffix arrays\" % (algo1, algo2)\n",
    "    best.sort()\n",
    "    print '\\n'.join(map(lambda (t, algo): \"%s: %.4f ms\" % (algo, t * 1000.0), best))"
   ]
  },
  {
   "cell_type": "markdown",
   "metadata": {},
   "source": [
    "# # Small Test Cases (n <= 100)"
   ]
  },
  {
   "cell_type": "code",
   "execution_count": 16,
   "metadata": {
    "collapsed": false,
    "scrolled": true
   },
   "outputs": [
    {
     "name": "stdout",
     "output_type": "stream",
     "text": [
      "Trials: 1000\n",
      "Text length: (1, 100)\n",
      "Letters: 1\n",
      "\n",
      "brute: 74.9996 ms\n",
      "default: 76.0000 ms\n",
      "counting sort: 361.0003 ms\n",
      "dc3: 457.0000 ms\n",
      "radix sort: 489.9993 ms\n"
     ]
    }
   ],
   "source": [
    "test(trials=1000, text_length=(1, 100), letters=1)"
   ]
  },
  {
   "cell_type": "code",
   "execution_count": 17,
   "metadata": {
    "collapsed": false,
    "scrolled": true
   },
   "outputs": [
    {
     "name": "stdout",
     "output_type": "stream",
     "text": [
      "Trials: 1000\n",
      "Text length: (1, 100)\n",
      "Letters: 2\n",
      "\n",
      "brute: 293.9999 ms\n",
      "default: 295.0003 ms\n",
      "counting sort: 369.9999 ms\n",
      "dc3: 389.9999 ms\n",
      "radix sort: 515.0001 ms\n"
     ]
    }
   ],
   "source": [
    "test(trials=1000, text_length=(1, 100), letters=2)"
   ]
  },
  {
   "cell_type": "code",
   "execution_count": 18,
   "metadata": {
    "collapsed": false,
    "scrolled": true
   },
   "outputs": [
    {
     "name": "stdout",
     "output_type": "stream",
     "text": [
      "Trials: 1000\n",
      "Text length: (1, 100)\n",
      "Letters: 5\n",
      "\n",
      "brute: 216.0001 ms\n",
      "default: 216.0003 ms\n",
      "radix sort: 360.0001 ms\n",
      "counting sort: 360.9998 ms\n",
      "dc3: 374.9998 ms\n"
     ]
    }
   ],
   "source": [
    "test(trials=1000, text_length=(1, 100), letters=5)"
   ]
  },
  {
   "cell_type": "code",
   "execution_count": 19,
   "metadata": {
    "collapsed": false,
    "scrolled": true
   },
   "outputs": [
    {
     "name": "stdout",
     "output_type": "stream",
     "text": [
      "Trials: 1000\n",
      "Text length: (1, 100)\n",
      "Letters: 10\n",
      "\n",
      "brute: 192.9998 ms\n",
      "default: 207.0003 ms\n",
      "radix sort: 305.0001 ms\n",
      "dc3: 315.0003 ms\n",
      "counting sort: 350.0001 ms\n"
     ]
    }
   ],
   "source": [
    "test(trials=1000, text_length=(1, 100), letters=10)"
   ]
  },
  {
   "cell_type": "code",
   "execution_count": 20,
   "metadata": {
    "collapsed": false,
    "scrolled": false
   },
   "outputs": [
    {
     "name": "stdout",
     "output_type": "stream",
     "text": [
      "Trials: 1000\n",
      "Text length: (1, 100)\n",
      "Letters: 26\n",
      "\n",
      "brute: 184.0000 ms\n",
      "default: 197.9997 ms\n",
      "radix sort: 255.0004 ms\n",
      "dc3: 255.9996 ms\n",
      "counting sort: 341.9998 ms\n"
     ]
    }
   ],
   "source": [
    "test(trials=1000, text_length=(1, 100), letters=26)"
   ]
  },
  {
   "cell_type": "code",
   "execution_count": 21,
   "metadata": {
    "collapsed": false,
    "scrolled": true
   },
   "outputs": [
    {
     "name": "stdout",
     "output_type": "stream",
     "text": [
      "Trials: 1000\n",
      "Text length: (1, 100)\n",
      "Letters: 50\n",
      "\n",
      "brute: 175.0002 ms\n",
      "default: 185.0004 ms\n",
      "radix sort: 219.9998 ms\n",
      "dc3: 258.9996 ms\n",
      "counting sort: 341.9998 ms\n"
     ]
    }
   ],
   "source": [
    "test(trials=1000, text_length=(1, 100), letters=50)"
   ]
  },
  {
   "cell_type": "markdown",
   "metadata": {},
   "source": [
    "## Medium Test Cases (100 <= n <= 1000)"
   ]
  },
  {
   "cell_type": "code",
   "execution_count": 22,
   "metadata": {
    "collapsed": false
   },
   "outputs": [
    {
     "name": "stdout",
     "output_type": "stream",
     "text": [
      "Trials: 100\n",
      "Text length: (100, 1000)\n",
      "Letters: 1\n",
      "\n",
      "brute: 64.9998 ms\n",
      "default: 69.0000 ms\n",
      "dc3: 485.9998 ms\n",
      "counting sort: 550.9999 ms\n",
      "radix sort: 653.9998 ms\n"
     ]
    }
   ],
   "source": [
    "test(trials=100, text_length=(100, 1000), letters=1)"
   ]
  },
  {
   "cell_type": "code",
   "execution_count": 23,
   "metadata": {
    "collapsed": false
   },
   "outputs": [
    {
     "name": "stdout",
     "output_type": "stream",
     "text": [
      "Trials: 100\n",
      "Text length: (100, 1000)\n",
      "Letters: 2\n",
      "\n",
      "dc3: 395.9999 ms\n",
      "default: 396.0001 ms\n",
      "counting sort: 507.9999 ms\n",
      "brute: 573.0002 ms\n",
      "radix sort: 701.9997 ms\n"
     ]
    }
   ],
   "source": [
    "test(trials=100, text_length=(100, 1000), letters=2)"
   ]
  },
  {
   "cell_type": "code",
   "execution_count": 24,
   "metadata": {
    "collapsed": false
   },
   "outputs": [
    {
     "name": "stdout",
     "output_type": "stream",
     "text": [
      "Trials: 100\n",
      "Text length: (100, 1000)\n",
      "Letters: 5\n",
      "\n",
      "dc3: 358.0003 ms\n",
      "default: 378.0003 ms\n",
      "brute: 418.0000 ms\n",
      "counting sort: 541.9998 ms\n",
      "radix sort: 623.9998 ms\n"
     ]
    }
   ],
   "source": [
    "test(trials=100, text_length=(100, 1000), letters=5)"
   ]
  },
  {
   "cell_type": "code",
   "execution_count": 25,
   "metadata": {
    "collapsed": false
   },
   "outputs": [
    {
     "name": "stdout",
     "output_type": "stream",
     "text": [
      "Trials: 100\n",
      "Text length: (100, 1000)\n",
      "Letters: 10\n",
      "\n",
      "default: 363.0004 ms\n",
      "dc3: 375.0000 ms\n",
      "brute: 376.0002 ms\n",
      "radix sort: 530.9999 ms\n",
      "counting sort: 534.9996 ms\n"
     ]
    }
   ],
   "source": [
    "test(trials=100, text_length=(100, 1000), letters=10)"
   ]
  },
  {
   "cell_type": "code",
   "execution_count": 26,
   "metadata": {
    "collapsed": false
   },
   "outputs": [
    {
     "name": "stdout",
     "output_type": "stream",
     "text": [
      "Trials: 100\n",
      "Text length: (100, 1000)\n",
      "Letters: 26\n",
      "\n",
      "brute: 288.0001 ms\n",
      "default: 291.9998 ms\n",
      "dc3: 338.0003 ms\n",
      "radix sort: 398.0000 ms\n",
      "counting sort: 472.9998 ms\n"
     ]
    }
   ],
   "source": [
    "test(trials=100, text_length=(100, 1000), letters=26)"
   ]
  },
  {
   "cell_type": "code",
   "execution_count": 27,
   "metadata": {
    "collapsed": false
   },
   "outputs": [
    {
     "name": "stdout",
     "output_type": "stream",
     "text": [
      "Trials: 100\n",
      "Text length: (100, 1000)\n",
      "Letters: 50\n",
      "\n",
      "brute: 295.9998 ms\n",
      "default: 305.0003 ms\n",
      "dc3: 306.0002 ms\n",
      "radix sort: 379.0002 ms\n",
      "counting sort: 515.0001 ms\n"
     ]
    }
   ],
   "source": [
    "test(trials=100, text_length=(100, 1000), letters=50)"
   ]
  },
  {
   "cell_type": "code",
   "execution_count": 28,
   "metadata": {
    "collapsed": true
   },
   "outputs": [],
   "source": [
    "## Large Test Cases (1000 <= n <= 10000)"
   ]
  },
  {
   "cell_type": "code",
   "execution_count": 29,
   "metadata": {
    "collapsed": false
   },
   "outputs": [
    {
     "name": "stdout",
     "output_type": "stream",
     "text": [
      "Trials: 10\n",
      "Text length: (1000, 10000)\n",
      "Letters: 1\n",
      "\n",
      "brute: 68.0001 ms\n",
      "default: 70.0002 ms\n",
      "dc3: 534.0002 ms\n",
      "counting sort: 750.0000 ms\n",
      "radix sort: 966.0001 ms\n"
     ]
    }
   ],
   "source": [
    "test(trials=10, text_length=(1000, 10000), letters=1)"
   ]
  },
  {
   "cell_type": "code",
   "execution_count": 30,
   "metadata": {
    "collapsed": false
   },
   "outputs": [
    {
     "name": "stdout",
     "output_type": "stream",
     "text": [
      "Trials: 10\n",
      "Text length: (1000, 10000)\n",
      "Letters: 2\n",
      "\n",
      "dc3: 578.9998 ms\n",
      "default: 579.0002 ms\n",
      "counting sort: 1031.0001 ms\n",
      "radix sort: 1295.0003 ms\n",
      "brute: 1561.9998 ms\n"
     ]
    }
   ],
   "source": [
    "test(trials=10, text_length=(1000, 10000), letters=2)"
   ]
  },
  {
   "cell_type": "code",
   "execution_count": 31,
   "metadata": {
    "collapsed": false
   },
   "outputs": [
    {
     "name": "stdout",
     "output_type": "stream",
     "text": [
      "Trials: 10\n",
      "Text length: (1000, 10000)\n",
      "Letters: 5\n",
      "\n",
      "default: 419.9998 ms\n",
      "dc3: 436.9998 ms\n",
      "brute: 671.0000 ms\n",
      "counting sort: 779.0000 ms\n",
      "radix sort: 825.0003 ms\n"
     ]
    }
   ],
   "source": [
    "test(trials=10, text_length=(1000, 10000), letters=5)"
   ]
  },
  {
   "cell_type": "code",
   "execution_count": 32,
   "metadata": {
    "collapsed": false
   },
   "outputs": [
    {
     "name": "stdout",
     "output_type": "stream",
     "text": [
      "Trials: 10\n",
      "Text length: (1000, 10000)\n",
      "Letters: 10\n",
      "\n",
      "dc3: 368.9997 ms\n",
      "default: 376.9999 ms\n",
      "brute: 540.0000 ms\n",
      "radix sort: 756.0000 ms\n",
      "counting sort: 806.9999 ms\n"
     ]
    }
   ],
   "source": [
    "test(trials=10, text_length=(1000, 10000), letters=10)"
   ]
  },
  {
   "cell_type": "code",
   "execution_count": 33,
   "metadata": {
    "collapsed": false
   },
   "outputs": [
    {
     "name": "stdout",
     "output_type": "stream",
     "text": [
      "Trials: 10\n",
      "Text length: (1000, 10000)\n",
      "Letters: 26\n",
      "\n",
      "dc3: 302.9997 ms\n",
      "default: 313.0000 ms\n",
      "brute: 368.0000 ms\n",
      "radix sort: 488.0002 ms\n",
      "counting sort: 632.0002 ms\n"
     ]
    }
   ],
   "source": [
    "test(trials=10, text_length=(1000, 10000), letters=26)"
   ]
  },
  {
   "cell_type": "code",
   "execution_count": 34,
   "metadata": {
    "collapsed": false
   },
   "outputs": [
    {
     "name": "stdout",
     "output_type": "stream",
     "text": [
      "Trials: 10\n",
      "Text length: (1000, 10000)\n",
      "Letters: 50\n",
      "\n",
      "default: 211.0002 ms\n",
      "dc3: 217.0000 ms\n",
      "brute: 227.0000 ms\n",
      "radix sort: 303.0000 ms\n",
      "counting sort: 418.0000 ms\n"
     ]
    }
   ],
   "source": [
    "test(trials=10, text_length=(1000, 10000), letters=50)"
   ]
  },
  {
   "cell_type": "markdown",
   "metadata": {},
   "source": [
    "## Extra Large Test Case (n = 100000)"
   ]
  },
  {
   "cell_type": "code",
   "execution_count": 35,
   "metadata": {
    "collapsed": false
   },
   "outputs": [
    {
     "name": "stdout",
     "output_type": "stream",
     "text": [
      "Trials: 3\n",
      "Text length: 100000\n",
      "Letters: 1\n",
      "\n",
      "brute: 369.0002 ms\n",
      "default: 372.9999 ms\n",
      "dc3: 2907.0001 ms\n",
      "counting sort: 5013.9999 ms\n",
      "radix sort: 7915.9999 ms\n"
     ]
    }
   ],
   "source": [
    "test(trials=3, text_length=100000, letters=1)"
   ]
  },
  {
   "cell_type": "code",
   "execution_count": 36,
   "metadata": {
    "collapsed": false
   },
   "outputs": [
    {
     "name": "stdout",
     "output_type": "stream",
     "text": [
      "Trials: 3\n",
      "Text length: 100000\n",
      "Letters: 2\n",
      "\n",
      "default: 3063.9999 ms\n",
      "dc3: 3076.0000 ms\n",
      "radix sort: 6363.0002 ms\n",
      "counting sort: 9188.0000 ms\n",
      "brute: 9605.9999 ms\n"
     ]
    }
   ],
   "source": [
    "test(trials=3, text_length=100000, letters=2)"
   ]
  },
  {
   "cell_type": "code",
   "execution_count": 37,
   "metadata": {
    "collapsed": false
   },
   "outputs": [
    {
     "name": "stdout",
     "output_type": "stream",
     "text": [
      "Trials: 3\n",
      "Text length: 100000\n",
      "Letters: 5\n",
      "\n",
      "dc3: 3154.0000 ms\n",
      "default: 3178.0000 ms\n",
      "brute: 5453.0001 ms\n",
      "radix sort: 5634.0001 ms\n",
      "counting sort: 9700.0000 ms\n"
     ]
    }
   ],
   "source": [
    "test(trials=3, text_length=100000, letters=5)"
   ]
  },
  {
   "cell_type": "code",
   "execution_count": 38,
   "metadata": {
    "collapsed": false
   },
   "outputs": [
    {
     "name": "stdout",
     "output_type": "stream",
     "text": [
      "Trials: 3\n",
      "Text length: 100000\n",
      "Letters: 10\n",
      "\n",
      "dc3: 3082.0003 ms\n",
      "default: 3102.9999 ms\n",
      "brute: 4460.9997 ms\n",
      "radix sort: 5652.9999 ms\n",
      "counting sort: 10471.0000 ms\n"
     ]
    }
   ],
   "source": [
    "test(trials=3, text_length=100000, letters=10)"
   ]
  },
  {
   "cell_type": "code",
   "execution_count": 39,
   "metadata": {
    "collapsed": false
   },
   "outputs": [
    {
     "name": "stdout",
     "output_type": "stream",
     "text": [
      "Trials: 3\n",
      "Text length: 100000\n",
      "Letters: 26\n",
      "\n",
      "dc3: 2614.0001 ms\n",
      "default: 2908.0002 ms\n",
      "brute: 3822.0000 ms\n",
      "radix sort: 4804.9998 ms\n",
      "counting sort: 9937.0003 ms\n"
     ]
    }
   ],
   "source": [
    "test(trials=3, text_length=100000, letters=26)"
   ]
  },
  {
   "cell_type": "code",
   "execution_count": 40,
   "metadata": {
    "collapsed": false
   },
   "outputs": [
    {
     "name": "stdout",
     "output_type": "stream",
     "text": [
      "Trials: 3\n",
      "Text length: 100000\n",
      "Letters: 50\n",
      "\n",
      "dc3: 2883.0001 ms\n",
      "default: 2887.9998 ms\n",
      "brute: 3555.0001 ms\n",
      "radix sort: 4475.0001 ms\n",
      "counting sort: 9759.0001 ms\n"
     ]
    }
   ],
   "source": [
    "test(trials=3, text_length=100000, letters=50)"
   ]
  },
  {
   "cell_type": "code",
   "execution_count": 41,
   "metadata": {
    "collapsed": false
   },
   "outputs": [
    {
     "data": {
      "text/html": [
       "<table width=100%><tr><td>letters</b></td><td><b>algorithm</b></td><td><b>total time</b></td><td><b>trials</b></td><td><b>time per trial</b></td><td><b>length</td></tr><tr><td>1</td><td>brute</td><td>0.0749995708466</td><td>1000</td><td>7.49995708466e-05</td><td>49</td></tr><tr><td>1</td><td>default</td><td>0.0759999752045</td><td>1000</td><td>7.59999752045e-05</td><td>49</td></tr><tr><td>1</td><td>counting sort</td><td>0.361000299454</td><td>1000</td><td>0.000361000299454</td><td>49</td></tr><tr><td>1</td><td>dc3</td><td>0.457000017166</td><td>1000</td><td>0.000457000017166</td><td>49</td></tr><tr><td>1</td><td>radix sort</td><td>0.489999294281</td><td>1000</td><td>0.000489999294281</td><td>49</td></tr><tr><td>2</td><td>brute</td><td>0.293999910355</td><td>1000</td><td>0.000293999910355</td><td>50</td></tr><tr><td>2</td><td>default</td><td>0.295000314713</td><td>1000</td><td>0.000295000314713</td><td>50</td></tr><tr><td>2</td><td>counting sort</td><td>0.369999885559</td><td>1000</td><td>0.000369999885559</td><td>50</td></tr><tr><td>2</td><td>dc3</td><td>0.389999866486</td><td>1000</td><td>0.000389999866486</td><td>50</td></tr><tr><td>2</td><td>radix sort</td><td>0.515000104904</td><td>1000</td><td>0.000515000104904</td><td>50</td></tr><tr><td>5</td><td>brute</td><td>0.216000080109</td><td>1000</td><td>0.000216000080109</td><td>50</td></tr><tr><td>5</td><td>default</td><td>0.216000318527</td><td>1000</td><td>0.000216000318527</td><td>50</td></tr><tr><td>5</td><td>radix sort</td><td>0.360000133514</td><td>1000</td><td>0.000360000133514</td><td>50</td></tr><tr><td>5</td><td>counting sort</td><td>0.360999822617</td><td>1000</td><td>0.000360999822617</td><td>50</td></tr><tr><td>5</td><td>dc3</td><td>0.374999761581</td><td>1000</td><td>0.000374999761581</td><td>50</td></tr><tr><td>10</td><td>brute</td><td>0.192999839783</td><td>1000</td><td>0.000192999839783</td><td>49</td></tr><tr><td>10</td><td>default</td><td>0.207000255585</td><td>1000</td><td>0.000207000255585</td><td>49</td></tr><tr><td>10</td><td>radix sort</td><td>0.305000066757</td><td>1000</td><td>0.000305000066757</td><td>49</td></tr><tr><td>10</td><td>dc3</td><td>0.315000295639</td><td>1000</td><td>0.000315000295639</td><td>49</td></tr><tr><td>10</td><td>counting sort</td><td>0.350000143051</td><td>1000</td><td>0.000350000143051</td><td>49</td></tr><tr><td>26</td><td>brute</td><td>0.184000015259</td><td>1000</td><td>0.000184000015259</td><td>50</td></tr><tr><td>26</td><td>default</td><td>0.197999715805</td><td>1000</td><td>0.000197999715805</td><td>50</td></tr><tr><td>26</td><td>radix sort</td><td>0.255000352859</td><td>1000</td><td>0.000255000352859</td><td>50</td></tr><tr><td>26</td><td>dc3</td><td>0.255999565125</td><td>1000</td><td>0.000255999565125</td><td>50</td></tr><tr><td>26</td><td>counting sort</td><td>0.341999769211</td><td>1000</td><td>0.000341999769211</td><td>50</td></tr><tr><td>50</td><td>brute</td><td>0.175000190735</td><td>1000</td><td>0.000175000190735</td><td>50</td></tr><tr><td>50</td><td>default</td><td>0.185000419617</td><td>1000</td><td>0.000185000419617</td><td>50</td></tr><tr><td>50</td><td>radix sort</td><td>0.219999790192</td><td>1000</td><td>0.000219999790192</td><td>50</td></tr><tr><td>50</td><td>dc3</td><td>0.258999586105</td><td>1000</td><td>0.000258999586105</td><td>50</td></tr><tr><td>50</td><td>counting sort</td><td>0.341999769211</td><td>1000</td><td>0.000341999769211</td><td>50</td></tr><tr><td>1</td><td>brute</td><td>0.0649998188019</td><td>100</td><td>0.000649998188019</td><td>524</td></tr><tr><td>1</td><td>default</td><td>0.069000005722</td><td>100</td><td>0.00069000005722</td><td>524</td></tr><tr><td>1</td><td>dc3</td><td>0.485999822617</td><td>100</td><td>0.00485999822617</td><td>524</td></tr><tr><td>1</td><td>counting sort</td><td>0.550999879837</td><td>100</td><td>0.00550999879837</td><td>524</td></tr><tr><td>1</td><td>radix sort</td><td>0.65399980545</td><td>100</td><td>0.0065399980545</td><td>524</td></tr><tr><td>2</td><td>dc3</td><td>0.395999908447</td><td>100</td><td>0.00395999908447</td><td>533</td></tr><tr><td>2</td><td>default</td><td>0.396000146866</td><td>100</td><td>0.00396000146866</td><td>533</td></tr><tr><td>2</td><td>counting sort</td><td>0.507999897003</td><td>100</td><td>0.00507999897003</td><td>533</td></tr><tr><td>2</td><td>brute</td><td>0.573000192642</td><td>100</td><td>0.00573000192642</td><td>533</td></tr><tr><td>2</td><td>radix sort</td><td>0.701999664307</td><td>100</td><td>0.00701999664307</td><td>533</td></tr><tr><td>5</td><td>dc3</td><td>0.358000278473</td><td>100</td><td>0.00358000278473</td><td>582</td></tr><tr><td>5</td><td>default</td><td>0.378000259399</td><td>100</td><td>0.00378000259399</td><td>582</td></tr><tr><td>5</td><td>brute</td><td>0.417999982834</td><td>100</td><td>0.00417999982834</td><td>582</td></tr><tr><td>5</td><td>counting sort</td><td>0.541999816895</td><td>100</td><td>0.00541999816895</td><td>582</td></tr><tr><td>5</td><td>radix sort</td><td>0.623999834061</td><td>100</td><td>0.00623999834061</td><td>582</td></tr><tr><td>10</td><td>default</td><td>0.363000392914</td><td>100</td><td>0.00363000392914</td><td>592</td></tr><tr><td>10</td><td>dc3</td><td>0.375</td><td>100</td><td>0.00375</td><td>592</td></tr><tr><td>10</td><td>brute</td><td>0.376000165939</td><td>100</td><td>0.00376000165939</td><td>592</td></tr><tr><td>10</td><td>radix sort</td><td>0.530999898911</td><td>100</td><td>0.00530999898911</td><td>592</td></tr><tr><td>10</td><td>counting sort</td><td>0.534999608994</td><td>100</td><td>0.00534999608994</td><td>592</td></tr><tr><td>26</td><td>brute</td><td>0.288000106812</td><td>100</td><td>0.00288000106812</td><td>543</td></tr><tr><td>26</td><td>default</td><td>0.291999816895</td><td>100</td><td>0.00291999816895</td><td>543</td></tr><tr><td>26</td><td>dc3</td><td>0.338000297546</td><td>100</td><td>0.00338000297546</td><td>543</td></tr><tr><td>26</td><td>radix sort</td><td>0.398000001907</td><td>100</td><td>0.00398000001907</td><td>543</td></tr><tr><td>26</td><td>counting sort</td><td>0.472999811172</td><td>100</td><td>0.00472999811172</td><td>543</td></tr><tr><td>50</td><td>brute</td><td>0.295999765396</td><td>100</td><td>0.00295999765396</td><td>573</td></tr><tr><td>50</td><td>default</td><td>0.305000305176</td><td>100</td><td>0.00305000305176</td><td>573</td></tr><tr><td>50</td><td>dc3</td><td>0.306000232697</td><td>100</td><td>0.00306000232697</td><td>573</td></tr><tr><td>50</td><td>radix sort</td><td>0.37900018692</td><td>100</td><td>0.0037900018692</td><td>573</td></tr><tr><td>50</td><td>counting sort</td><td>0.515000104904</td><td>100</td><td>0.00515000104904</td><td>573</td></tr><tr><td>1</td><td>brute</td><td>0.0680000782013</td><td>10</td><td>0.00680000782013</td><td>5810</td></tr><tr><td>1</td><td>default</td><td>0.0700001716614</td><td>10</td><td>0.00700001716614</td><td>5810</td></tr><tr><td>1</td><td>dc3</td><td>0.53400015831</td><td>10</td><td>0.053400015831</td><td>5810</td></tr><tr><td>1</td><td>counting sort</td><td>0.75</td><td>10</td><td>0.075</td><td>5810</td></tr><tr><td>1</td><td>radix sort</td><td>0.966000080109</td><td>10</td><td>0.0966000080109</td><td>5810</td></tr><tr><td>2</td><td>dc3</td><td>0.578999757767</td><td>10</td><td>0.0578999757767</td><td>7917</td></tr><tr><td>2</td><td>default</td><td>0.579000234604</td><td>10</td><td>0.0579000234604</td><td>7917</td></tr><tr><td>2</td><td>counting sort</td><td>1.03100013733</td><td>10</td><td>0.103100013733</td><td>7917</td></tr><tr><td>2</td><td>radix sort</td><td>1.29500031471</td><td>10</td><td>0.129500031471</td><td>7917</td></tr><tr><td>2</td><td>brute</td><td>1.56199979782</td><td>10</td><td>0.156199979782</td><td>7917</td></tr><tr><td>5</td><td>default</td><td>0.419999837875</td><td>10</td><td>0.0419999837875</td><td>6036</td></tr><tr><td>5</td><td>dc3</td><td>0.436999797821</td><td>10</td><td>0.0436999797821</td><td>6036</td></tr><tr><td>5</td><td>brute</td><td>0.671000003815</td><td>10</td><td>0.0671000003815</td><td>6036</td></tr><tr><td>5</td><td>counting sort</td><td>0.779000043869</td><td>10</td><td>0.0779000043869</td><td>6036</td></tr><tr><td>5</td><td>radix sort</td><td>0.825000286102</td><td>10</td><td>0.0825000286102</td><td>6036</td></tr><tr><td>10</td><td>dc3</td><td>0.36899971962</td><td>10</td><td>0.036899971962</td><td>5947</td></tr><tr><td>10</td><td>default</td><td>0.376999855042</td><td>10</td><td>0.0376999855042</td><td>5947</td></tr><tr><td>10</td><td>brute</td><td>0.539999961853</td><td>10</td><td>0.0539999961853</td><td>5947</td></tr><tr><td>10</td><td>radix sort</td><td>0.756000041962</td><td>10</td><td>0.0756000041962</td><td>5947</td></tr><tr><td>10</td><td>counting sort</td><td>0.806999921799</td><td>10</td><td>0.0806999921799</td><td>5947</td></tr><tr><td>26</td><td>dc3</td><td>0.302999734879</td><td>10</td><td>0.0302999734879</td><td>4687</td></tr><tr><td>26</td><td>default</td><td>0.31299996376</td><td>10</td><td>0.031299996376</td><td>4687</td></tr><tr><td>26</td><td>brute</td><td>0.368000030518</td><td>10</td><td>0.0368000030518</td><td>4687</td></tr><tr><td>26</td><td>radix sort</td><td>0.488000154495</td><td>10</td><td>0.0488000154495</td><td>4687</td></tr><tr><td>26</td><td>counting sort</td><td>0.632000207901</td><td>10</td><td>0.0632000207901</td><td>4687</td></tr><tr><td>50</td><td>default</td><td>0.211000204086</td><td>10</td><td>0.0211000204086</td><td>3322</td></tr><tr><td>50</td><td>dc3</td><td>0.217000007629</td><td>10</td><td>0.0217000007629</td><td>3322</td></tr><tr><td>50</td><td>brute</td><td>0.226999998093</td><td>10</td><td>0.0226999998093</td><td>3322</td></tr><tr><td>50</td><td>radix sort</td><td>0.302999973297</td><td>10</td><td>0.0302999973297</td><td>3322</td></tr><tr><td>50</td><td>counting sort</td><td>0.417999982834</td><td>10</td><td>0.0417999982834</td><td>3322</td></tr><tr><td>1</td><td>brute</td><td>0.369000196457</td><td>3</td><td>0.123000065486</td><td>100000</td></tr><tr><td>1</td><td>default</td><td>0.37299990654</td><td>3</td><td>0.12433330218</td><td>100000</td></tr><tr><td>1</td><td>dc3</td><td>2.90700006485</td><td>3</td><td>0.969000021617</td><td>100000</td></tr><tr><td>1</td><td>counting sort</td><td>5.01399993896</td><td>3</td><td>1.67133331299</td><td>100000</td></tr><tr><td>1</td><td>radix sort</td><td>7.91599988937</td><td>3</td><td>2.63866662979</td><td>100000</td></tr><tr><td>2</td><td>default</td><td>3.06399989128</td><td>3</td><td>1.02133329709</td><td>100000</td></tr><tr><td>2</td><td>dc3</td><td>3.0759999752</td><td>3</td><td>1.02533332507</td><td>100000</td></tr><tr><td>2</td><td>radix sort</td><td>6.3630001545</td><td>3</td><td>2.1210000515</td><td>100000</td></tr><tr><td>2</td><td>counting sort</td><td>9.18799996376</td><td>3</td><td>3.06266665459</td><td>100000</td></tr><tr><td>2</td><td>brute</td><td>9.60599994659</td><td>3</td><td>3.2019999822</td><td>100000</td></tr><tr><td>5</td><td>dc3</td><td>3.15400004387</td><td>3</td><td>1.05133334796</td><td>100000</td></tr><tr><td>5</td><td>default</td><td>3.1779999733</td><td>3</td><td>1.05933332443</td><td>100000</td></tr><tr><td>5</td><td>brute</td><td>5.45300006866</td><td>3</td><td>1.81766668955</td><td>100000</td></tr><tr><td>5</td><td>radix sort</td><td>5.63400006294</td><td>3</td><td>1.87800002098</td><td>100000</td></tr><tr><td>5</td><td>counting sort</td><td>9.70000004768</td><td>3</td><td>3.23333334923</td><td>100000</td></tr><tr><td>10</td><td>dc3</td><td>3.08200025558</td><td>3</td><td>1.02733341853</td><td>100000</td></tr><tr><td>10</td><td>default</td><td>3.10299992561</td><td>3</td><td>1.03433330854</td><td>100000</td></tr><tr><td>10</td><td>brute</td><td>4.46099972725</td><td>3</td><td>1.48699990908</td><td>100000</td></tr><tr><td>10</td><td>radix sort</td><td>5.65299987793</td><td>3</td><td>1.88433329264</td><td>100000</td></tr><tr><td>10</td><td>counting sort</td><td>10.4709999561</td><td>3</td><td>3.49033331871</td><td>100000</td></tr><tr><td>26</td><td>dc3</td><td>2.61400008202</td><td>3</td><td>0.871333360672</td><td>100000</td></tr><tr><td>26</td><td>default</td><td>2.90800023079</td><td>3</td><td>0.969333410263</td><td>100000</td></tr><tr><td>26</td><td>brute</td><td>3.8220000267</td><td>3</td><td>1.2740000089</td><td>100000</td></tr><tr><td>26</td><td>radix sort</td><td>4.80499982834</td><td>3</td><td>1.60166660945</td><td>100000</td></tr><tr><td>26</td><td>counting sort</td><td>9.93700027466</td><td>3</td><td>3.31233342489</td><td>100000</td></tr><tr><td>50</td><td>dc3</td><td>2.88300013542</td><td>3</td><td>0.961000045141</td><td>100000</td></tr><tr><td>50</td><td>default</td><td>2.88799977303</td><td>3</td><td>0.962666591009</td><td>100000</td></tr><tr><td>50</td><td>brute</td><td>3.55500006676</td><td>3</td><td>1.18500002225</td><td>100000</td></tr><tr><td>50</td><td>radix sort</td><td>4.47500014305</td><td>3</td><td>1.49166671435</td><td>100000</td></tr><tr><td>50</td><td>counting sort</td><td>9.75900006294</td><td>3</td><td>3.25300002098</td><td>100000</td></tr></table>"
      ],
      "text/plain": [
       "<IPython.core.display.HTML object>"
      ]
     },
     "metadata": {},
     "output_type": "display_data"
    }
   ],
   "source": [
    "from IPython.display import display, HTML\n",
    "statistics.sort(key=lambda this: (-this['trials'], this['letters'], this['total time']))\n",
    "display(HTML(statistics.to_html()))"
   ]
  },
  {
   "cell_type": "code",
   "execution_count": null,
   "metadata": {
    "collapsed": true
   },
   "outputs": [],
   "source": []
  }
 ],
 "metadata": {
  "kernelspec": {
   "display_name": "Python 2",
   "language": "python",
   "name": "python2"
  },
  "language_info": {
   "codemirror_mode": {
    "name": "ipython",
    "version": 2
   },
   "file_extension": ".py",
   "mimetype": "text/x-python",
   "name": "python",
   "nbconvert_exporter": "python",
   "pygments_lexer": "ipython2",
   "version": "2.7.10"
  }
 },
 "nbformat": 4,
 "nbformat_minor": 0
}
