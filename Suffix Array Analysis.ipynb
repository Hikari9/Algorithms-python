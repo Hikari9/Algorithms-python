{
 "cells": [
  {
   "cell_type": "markdown",
   "metadata": {},
   "source": [
    "# Suffix Array Algorithms Analysis\n",
    "\n",
    "\n",
    "This notebook summarizes analysis for certain algorithms that build the [suffix array](\n",
    "https://en.wikipedia.org/wiki/Suffix_array) data structure, classified according to their complexities.\n",
    "\n",
    "1. **Brute Force** - *O(n^2)*\n",
    "2. **Radix Sort** - *O(n log^2 n)*\n",
    "3. **Counting Sort** - *O(n log n)*\n",
    "4. **DC3 Algorithm** - *O(kn)*\n",
    "\n",
    "Conclusion summary:\n",
    "- Brute Force special case is best for all (letters == 1).\n",
    "- Brute Force average complexity is inversely proportional to the increase of letters if (letters >= 2).\n",
    "- Brute Force is **best** for small cases (length <= 100) in terms of average complexity.\n",
    "- DC3 is **best** for medium cases (100 <= length <= 1000) with (2 <= letters < 10).\n",
    "- Brute Force is **best** for medium cases (100 <= length <= 1000) with (letters >= 10).\n",
    "- DC3 is **best** for all large test cases (length > 1000) with (letters >= 2).\n",
    "- Counting Sort has the same best case and worst case *O(n log n)* complexity.\n",
    "- Radix Sort beats Counting Sort's average case complexity.\n"
   ]
  },
  {
   "cell_type": "code",
   "execution_count": 1,
   "metadata": {
    "collapsed": false
   },
   "outputs": [],
   "source": [
    "from progvar.strings.suffix import SuffixArray\n",
    "from progvar.html import Table\n",
    "from time import time"
   ]
  },
  {
   "cell_type": "code",
   "execution_count": 2,
   "metadata": {
    "collapsed": false
   },
   "outputs": [
    {
     "name": "stdout",
     "output_type": "stream",
     "text": [
      "[5, 2, 3, 0, 4, 1]\n",
      "aab$\n"
     ]
    }
   ],
   "source": [
    "# suffix array examples\n",
    "print SuffixArray('abaab', algo='radix sort')\n",
    "print SuffixArray('abaab').suffix(1)"
   ]
  },
  {
   "cell_type": "code",
   "execution_count": 3,
   "metadata": {
    "collapsed": false
   },
   "outputs": [],
   "source": [
    "# Testing\n",
    "trial_text = []\n",
    "statistics = Table()\n",
    "\n",
    "def generate_text(trials=10, text_length=1000, letters=26):\n",
    "    print 'Trials:', trials\n",
    "    print 'Text length:', text_length\n",
    "    print 'Letters:', letters\n",
    "    print ''\n",
    "    from progvar.strings.utils import random_text\n",
    "    global trial_text\n",
    "    trial_text = [random_text(length=text_length, letters=letters) for i in xrange(trials)]\n",
    "    \n",
    "results = {}\n",
    "best = []\n",
    "\n",
    "def perform_algorithm(algorithm):\n",
    "    \n",
    "    global results\n",
    "    results[algorithm] = []\n",
    "    \n",
    "    # profile time\n",
    "    time_elapsed = 0\n",
    "    total_text_length = 0\n",
    "    total_letters = set()\n",
    "    \n",
    "    \n",
    "    for text in trial_text:\n",
    "        time_start = time()\n",
    "        \n",
    "        # algorithm result\n",
    "        result = SuffixArray(text, algo=algorithm)\n",
    "        \n",
    "        # collect time statistics\n",
    "        delta_time = time() - time_start\n",
    "        time_elapsed += delta_time\n",
    "        \n",
    "        # collect text statistics\n",
    "        total_text_length += len(text)\n",
    "        total_letters.update(list(text))\n",
    "        \n",
    "        # append to results\n",
    "        results[algorithm].append(result)\n",
    "    \n",
    "    \n",
    "    time_per_trial = time_elapsed / len(trial_text)\n",
    "    data = {\n",
    "        'algorithm': algorithm,\n",
    "        'trials': len(trial_text),\n",
    "        'total time': time_elapsed,\n",
    "        'time per trial': time_per_trial,\n",
    "        'letters': len(total_letters),\n",
    "        'length': total_text_length / len(trial_text),\n",
    "    }\n",
    "    \n",
    "    global statistics, best\n",
    "    statistics.append(data)\n",
    "    best.append((time_elapsed, algorithm))\n",
    "\n",
    "def test(trials=10, text_length=10000, letters=5, exclude=[]):\n",
    "    global results, best\n",
    "    generate_text(trials=trials, text_length=text_length, letters=letters)\n",
    "    results.clear()\n",
    "    best = []\n",
    "    for algorithm in SuffixArray.algorithms:\n",
    "        if algorithm in exclude: continue\n",
    "        perform_algorithm(algorithm)\n",
    "    L = list(results)\n",
    "    for i in xrange(len(L)):\n",
    "        for j in xrange(i + 1, len(L)):\n",
    "            algo1, algo2 = L[i], L[j]\n",
    "            if results[algo1] != results[algo2]:\n",
    "                print \"WARNING! %s and %s have different suffix arrays\" % (algo1, algo2)\n",
    "    best.sort()\n",
    "    print '\\n'.join(map(lambda (t, algo): \"%s: %.4f ms\" % (algo, t * 1000.0), best))"
   ]
  },
  {
   "cell_type": "markdown",
   "metadata": {},
   "source": [
    "# # Small Test Cases (n <= 100)"
   ]
  },
  {
   "cell_type": "code",
   "execution_count": 4,
   "metadata": {
    "collapsed": false,
    "scrolled": true
   },
   "outputs": [
    {
     "name": "stdout",
     "output_type": "stream",
     "text": [
      "Trials: 1000\n",
      "Text length: (1, 100)\n",
      "Letters: 1\n",
      "\n",
      "brute: 81.2390 ms\n",
      "default: 84.2147 ms\n",
      "counting sort: 371.1114 ms\n",
      "dc3: 468.7843 ms\n",
      "radix sort: 522.2816 ms\n"
     ]
    }
   ],
   "source": [
    "test(trials=1000, text_length=(1, 100), letters=1)"
   ]
  },
  {
   "cell_type": "code",
   "execution_count": 5,
   "metadata": {
    "collapsed": false,
    "scrolled": true
   },
   "outputs": [
    {
     "name": "stdout",
     "output_type": "stream",
     "text": [
      "Trials: 1000\n",
      "Text length: (1, 100)\n",
      "Letters: 2\n",
      "\n",
      "brute: 296.1388 ms\n",
      "default: 316.7996 ms\n",
      "dc3: 374.3606 ms\n",
      "counting sort: 395.0188 ms\n",
      "radix sort: 538.6956 ms\n"
     ]
    }
   ],
   "source": [
    "test(trials=1000, text_length=(1, 100), letters=2)"
   ]
  },
  {
   "cell_type": "code",
   "execution_count": 6,
   "metadata": {
    "collapsed": false,
    "scrolled": true
   },
   "outputs": [
    {
     "name": "stdout",
     "output_type": "stream",
     "text": [
      "Trials: 1000\n",
      "Text length: (1, 100)\n",
      "Letters: 5\n",
      "\n",
      "brute: 221.3259 ms\n",
      "default: 228.6420 ms\n",
      "dc3: 334.7378 ms\n",
      "counting sort: 368.0925 ms\n",
      "radix sort: 382.5724 ms\n"
     ]
    }
   ],
   "source": [
    "test(trials=1000, text_length=(1, 100), letters=5)"
   ]
  },
  {
   "cell_type": "code",
   "execution_count": 7,
   "metadata": {
    "collapsed": false,
    "scrolled": true
   },
   "outputs": [
    {
     "name": "stdout",
     "output_type": "stream",
     "text": [
      "Trials: 1000\n",
      "Text length: (1, 100)\n",
      "Letters: 10\n",
      "\n",
      "brute: 208.6079 ms\n",
      "default: 215.6000 ms\n",
      "dc3: 306.3495 ms\n",
      "radix sort: 323.7929 ms\n",
      "counting sort: 360.8646 ms\n"
     ]
    }
   ],
   "source": [
    "test(trials=1000, text_length=(1, 100), letters=10)"
   ]
  },
  {
   "cell_type": "code",
   "execution_count": 8,
   "metadata": {
    "collapsed": false,
    "scrolled": false
   },
   "outputs": [
    {
     "name": "stdout",
     "output_type": "stream",
     "text": [
      "Trials: 1000\n",
      "Text length: (1, 100)\n",
      "Letters: 26\n",
      "\n",
      "brute: 178.2632 ms\n",
      "default: 188.4937 ms\n",
      "radix sort: 260.8640 ms\n",
      "dc3: 275.5787 ms\n",
      "counting sort: 352.9820 ms\n"
     ]
    }
   ],
   "source": [
    "test(trials=1000, text_length=(1, 100), letters=26)"
   ]
  },
  {
   "cell_type": "code",
   "execution_count": 9,
   "metadata": {
    "collapsed": false,
    "scrolled": true
   },
   "outputs": [
    {
     "name": "stdout",
     "output_type": "stream",
     "text": [
      "Trials: 1000\n",
      "Text length: (1, 100)\n",
      "Letters: 50\n",
      "\n",
      "brute: 180.9125 ms\n",
      "default: 199.3082 ms\n",
      "radix sort: 233.1083 ms\n",
      "dc3: 248.1461 ms\n",
      "counting sort: 342.0935 ms\n"
     ]
    }
   ],
   "source": [
    "test(trials=1000, text_length=(1, 100), letters=50)"
   ]
  },
  {
   "cell_type": "markdown",
   "metadata": {},
   "source": [
    "## Medium Test Cases (100 <= n <= 1000)"
   ]
  },
  {
   "cell_type": "code",
   "execution_count": 10,
   "metadata": {
    "collapsed": false
   },
   "outputs": [
    {
     "name": "stdout",
     "output_type": "stream",
     "text": [
      "Trials: 100\n",
      "Text length: (100, 1000)\n",
      "Letters: 1\n",
      "\n",
      "brute: 66.4718 ms\n",
      "default: 72.9487 ms\n",
      "dc3: 521.2989 ms\n",
      "counting sort: 550.9982 ms\n",
      "radix sort: 724.9284 ms\n"
     ]
    }
   ],
   "source": [
    "test(trials=100, text_length=(100, 1000), letters=1)"
   ]
  },
  {
   "cell_type": "code",
   "execution_count": 11,
   "metadata": {
    "collapsed": false
   },
   "outputs": [
    {
     "name": "stdout",
     "output_type": "stream",
     "text": [
      "Trials: 100\n",
      "Text length: (100, 1000)\n",
      "Letters: 2\n",
      "\n",
      "default: 390.4271 ms\n",
      "dc3: 391.3600 ms\n",
      "counting sort: 510.7789 ms\n",
      "brute: 621.4478 ms\n",
      "radix sort: 755.3074 ms\n"
     ]
    }
   ],
   "source": [
    "test(trials=100, text_length=(100, 1000), letters=2)"
   ]
  },
  {
   "cell_type": "code",
   "execution_count": 12,
   "metadata": {
    "collapsed": false
   },
   "outputs": [
    {
     "name": "stdout",
     "output_type": "stream",
     "text": [
      "Trials: 100\n",
      "Text length: (100, 1000)\n",
      "Letters: 5\n",
      "\n",
      "dc3: 310.7421 ms\n",
      "default: 314.8994 ms\n",
      "brute: 374.8231 ms\n",
      "counting sort: 489.7556 ms\n",
      "radix sort: 557.9376 ms\n"
     ]
    }
   ],
   "source": [
    "test(trials=100, text_length=(100, 1000), letters=5)"
   ]
  },
  {
   "cell_type": "code",
   "execution_count": 13,
   "metadata": {
    "collapsed": false
   },
   "outputs": [
    {
     "name": "stdout",
     "output_type": "stream",
     "text": [
      "Trials: 100\n",
      "Text length: (100, 1000)\n",
      "Letters: 10\n",
      "\n",
      "dc3: 334.6257 ms\n",
      "brute: 351.1014 ms\n",
      "default: 357.0251 ms\n",
      "radix sort: 516.7279 ms\n",
      "counting sort: 521.0776 ms\n"
     ]
    }
   ],
   "source": [
    "test(trials=100, text_length=(100, 1000), letters=10)"
   ]
  },
  {
   "cell_type": "code",
   "execution_count": 14,
   "metadata": {
    "collapsed": false
   },
   "outputs": [
    {
     "name": "stdout",
     "output_type": "stream",
     "text": [
      "Trials: 100\n",
      "Text length: (100, 1000)\n",
      "Letters: 26\n",
      "\n",
      "brute: 275.1815 ms\n",
      "default: 281.7564 ms\n",
      "dc3: 300.8852 ms\n",
      "radix sort: 386.2374 ms\n",
      "counting sort: 457.6106 ms\n"
     ]
    }
   ],
   "source": [
    "test(trials=100, text_length=(100, 1000), letters=26)"
   ]
  },
  {
   "cell_type": "code",
   "execution_count": 15,
   "metadata": {
    "collapsed": false
   },
   "outputs": [
    {
     "name": "stdout",
     "output_type": "stream",
     "text": [
      "Trials: 100\n",
      "Text length: (100, 1000)\n",
      "Letters: 50\n",
      "\n",
      "dc3: 264.6551 ms\n",
      "brute: 271.7216 ms\n",
      "default: 278.0852 ms\n",
      "radix sort: 352.0031 ms\n",
      "counting sort: 465.7547 ms\n"
     ]
    }
   ],
   "source": [
    "test(trials=100, text_length=(100, 1000), letters=50)"
   ]
  },
  {
   "cell_type": "code",
   "execution_count": 16,
   "metadata": {
    "collapsed": true
   },
   "outputs": [],
   "source": [
    "## Large Test Cases (1000 <= n <= 10000)"
   ]
  },
  {
   "cell_type": "code",
   "execution_count": 17,
   "metadata": {
    "collapsed": false
   },
   "outputs": [
    {
     "name": "stdout",
     "output_type": "stream",
     "text": [
      "Trials: 10\n",
      "Text length: (1000, 10000)\n",
      "Letters: 1\n",
      "\n",
      "brute: 57.2526 ms\n",
      "default: 61.2991 ms\n",
      "dc3: 452.9662 ms\n",
      "counting sort: 670.2361 ms\n",
      "radix sort: 830.0264 ms\n"
     ]
    }
   ],
   "source": [
    "test(trials=10, text_length=(1000, 10000), letters=1)"
   ]
  },
  {
   "cell_type": "code",
   "execution_count": 18,
   "metadata": {
    "collapsed": false
   },
   "outputs": [
    {
     "name": "stdout",
     "output_type": "stream",
     "text": [
      "Trials: 10\n",
      "Text length: (1000, 10000)\n",
      "Letters: 2\n",
      "\n",
      "default: 430.7649 ms\n",
      "dc3: 445.9796 ms\n",
      "counting sort: 826.1180 ms\n",
      "radix sort: 1037.7908 ms\n",
      "brute: 1247.4024 ms\n"
     ]
    }
   ],
   "source": [
    "test(trials=10, text_length=(1000, 10000), letters=2)"
   ]
  },
  {
   "cell_type": "code",
   "execution_count": 19,
   "metadata": {
    "collapsed": false
   },
   "outputs": [
    {
     "name": "stdout",
     "output_type": "stream",
     "text": [
      "Trials: 10\n",
      "Text length: (1000, 10000)\n",
      "Letters: 5\n",
      "\n",
      "default: 404.0110 ms\n",
      "dc3: 495.7070 ms\n",
      "brute: 649.4288 ms\n",
      "radix sort: 805.4509 ms\n",
      "counting sort: 869.8213 ms\n"
     ]
    }
   ],
   "source": [
    "test(trials=10, text_length=(1000, 10000), letters=5)"
   ]
  },
  {
   "cell_type": "code",
   "execution_count": 20,
   "metadata": {
    "collapsed": false
   },
   "outputs": [
    {
     "name": "stdout",
     "output_type": "stream",
     "text": [
      "Trials: 10\n",
      "Text length: (1000, 10000)\n",
      "Letters: 10\n",
      "\n",
      "dc3: 346.0863 ms\n",
      "default: 387.6178 ms\n",
      "brute: 562.8037 ms\n",
      "radix sort: 838.8839 ms\n",
      "counting sort: 1014.6337 ms\n"
     ]
    }
   ],
   "source": [
    "test(trials=10, text_length=(1000, 10000), letters=10)"
   ]
  },
  {
   "cell_type": "code",
   "execution_count": 21,
   "metadata": {
    "collapsed": false
   },
   "outputs": [
    {
     "name": "stdout",
     "output_type": "stream",
     "text": [
      "Trials: 10\n",
      "Text length: (1000, 10000)\n",
      "Letters: 26\n",
      "\n",
      "dc3: 361.1240 ms\n",
      "default: 371.6631 ms\n",
      "brute: 469.9512 ms\n",
      "radix sort: 617.3568 ms\n",
      "counting sort: 910.8033 ms\n"
     ]
    }
   ],
   "source": [
    "test(trials=10, text_length=(1000, 10000), letters=26)"
   ]
  },
  {
   "cell_type": "code",
   "execution_count": 22,
   "metadata": {
    "collapsed": false
   },
   "outputs": [
    {
     "name": "stdout",
     "output_type": "stream",
     "text": [
      "Trials: 10\n",
      "Text length: (1000, 10000)\n",
      "Letters: 50\n",
      "\n",
      "dc3: 429.2371 ms\n",
      "default: 448.3311 ms\n",
      "brute: 548.1203 ms\n",
      "radix sort: 728.6708 ms\n",
      "counting sort: 1180.3062 ms\n"
     ]
    }
   ],
   "source": [
    "test(trials=10, text_length=(1000, 10000), letters=50)"
   ]
  },
  {
   "cell_type": "markdown",
   "metadata": {},
   "source": [
    "## Extra Large Test Case (n = 100000)"
   ]
  },
  {
   "cell_type": "code",
   "execution_count": 23,
   "metadata": {
    "collapsed": false
   },
   "outputs": [
    {
     "name": "stdout",
     "output_type": "stream",
     "text": [
      "Trials: 3\n",
      "Text length: 100000\n",
      "Letters: 1\n",
      "\n",
      "brute: 329.3259 ms\n",
      "default: 342.4459 ms\n",
      "dc3: 2805.5041 ms\n",
      "counting sort: 4798.7273 ms\n",
      "radix sort: 7753.8888 ms\n"
     ]
    }
   ],
   "source": [
    "test(trials=3, text_length=100000, letters=1)"
   ]
  },
  {
   "cell_type": "code",
   "execution_count": 24,
   "metadata": {
    "collapsed": false
   },
   "outputs": [
    {
     "name": "stdout",
     "output_type": "stream",
     "text": [
      "Trials: 3\n",
      "Text length: 100000\n",
      "Letters: 2\n",
      "\n",
      "dc3: 2776.8922 ms\n",
      "default: 2894.5601 ms\n",
      "radix sort: 6309.5300 ms\n",
      "brute: 9682.0357 ms\n",
      "counting sort: 10251.5211 ms\n"
     ]
    }
   ],
   "source": [
    "test(trials=3, text_length=100000, letters=2)"
   ]
  },
  {
   "cell_type": "code",
   "execution_count": 25,
   "metadata": {
    "collapsed": false
   },
   "outputs": [
    {
     "name": "stdout",
     "output_type": "stream",
     "text": [
      "Trials: 3\n",
      "Text length: 100000\n",
      "Letters: 5\n",
      "\n",
      "default: 3288.9969 ms\n",
      "dc3: 3299.8707 ms\n",
      "radix sort: 5687.6490 ms\n",
      "brute: 5752.0082 ms\n",
      "counting sort: 11452.9927 ms\n"
     ]
    }
   ],
   "source": [
    "test(trials=3, text_length=100000, letters=5)"
   ]
  },
  {
   "cell_type": "code",
   "execution_count": 26,
   "metadata": {
    "collapsed": false
   },
   "outputs": [
    {
     "name": "stdout",
     "output_type": "stream",
     "text": [
      "Trials: 3\n",
      "Text length: 100000\n",
      "Letters: 10\n",
      "\n",
      "dc3: 3102.9849 ms\n",
      "default: 3168.1099 ms\n",
      "brute: 4621.3598 ms\n",
      "radix sort: 5716.5017 ms\n",
      "counting sort: 11942.0550 ms\n"
     ]
    }
   ],
   "source": [
    "test(trials=3, text_length=100000, letters=10)"
   ]
  },
  {
   "cell_type": "code",
   "execution_count": 27,
   "metadata": {
    "collapsed": false
   },
   "outputs": [
    {
     "name": "stdout",
     "output_type": "stream",
     "text": [
      "Trials: 3\n",
      "Text length: 100000\n",
      "Letters: 26\n",
      "\n",
      "default: 2910.6650 ms\n",
      "dc3: 3155.2689 ms\n",
      "brute: 4088.3372 ms\n",
      "radix sort: 4861.2101 ms\n",
      "counting sort: 12164.3140 ms\n"
     ]
    }
   ],
   "source": [
    "test(trials=3, text_length=100000, letters=26)"
   ]
  },
  {
   "cell_type": "code",
   "execution_count": 28,
   "metadata": {
    "collapsed": false
   },
   "outputs": [
    {
     "name": "stdout",
     "output_type": "stream",
     "text": [
      "Trials: 3\n",
      "Text length: 100000\n",
      "Letters: 50\n",
      "\n",
      "dc3: 3120.8649 ms\n",
      "default: 3173.2750 ms\n",
      "brute: 3671.1402 ms\n",
      "radix sort: 5166.5721 ms\n",
      "counting sort: 12126.5321 ms\n"
     ]
    }
   ],
   "source": [
    "test(trials=3, text_length=100000, letters=50)"
   ]
  },
  {
   "cell_type": "code",
   "execution_count": 29,
   "metadata": {
    "collapsed": false
   },
   "outputs": [
    {
     "data": {
      "text/html": [
       "<table width=100%><tr><td>letters</b></td><td><b>algorithm</b></td><td><b>total time</b></td><td><b>trials</b></td><td><b>time per trial</b></td><td><b>length</td></tr><tr><td>1</td><td>brute</td><td>0.0812389850616</td><td>1000</td><td>8.12389850616e-05</td><td>51</td></tr><tr><td>1</td><td>default</td><td>0.0842146873474</td><td>1000</td><td>8.42146873474e-05</td><td>51</td></tr><tr><td>1</td><td>counting sort</td><td>0.371111392975</td><td>1000</td><td>0.000371111392975</td><td>51</td></tr><tr><td>1</td><td>dc3</td><td>0.468784332275</td><td>1000</td><td>0.000468784332275</td><td>51</td></tr><tr><td>1</td><td>radix sort</td><td>0.522281646729</td><td>1000</td><td>0.000522281646729</td><td>51</td></tr><tr><td>2</td><td>brute</td><td>0.296138763428</td><td>1000</td><td>0.000296138763428</td><td>51</td></tr><tr><td>2</td><td>default</td><td>0.316799640656</td><td>1000</td><td>0.000316799640656</td><td>51</td></tr><tr><td>2</td><td>dc3</td><td>0.374360561371</td><td>1000</td><td>0.000374360561371</td><td>51</td></tr><tr><td>2</td><td>counting sort</td><td>0.395018815994</td><td>1000</td><td>0.000395018815994</td><td>51</td></tr><tr><td>2</td><td>radix sort</td><td>0.538695573807</td><td>1000</td><td>0.000538695573807</td><td>51</td></tr><tr><td>5</td><td>brute</td><td>0.221325874329</td><td>1000</td><td>0.000221325874329</td><td>50</td></tr><tr><td>5</td><td>default</td><td>0.228641986847</td><td>1000</td><td>0.000228641986847</td><td>50</td></tr><tr><td>5</td><td>dc3</td><td>0.33473777771</td><td>1000</td><td>0.00033473777771</td><td>50</td></tr><tr><td>5</td><td>counting sort</td><td>0.368092536926</td><td>1000</td><td>0.000368092536926</td><td>50</td></tr><tr><td>5</td><td>radix sort</td><td>0.382572412491</td><td>1000</td><td>0.000382572412491</td><td>50</td></tr><tr><td>10</td><td>brute</td><td>0.208607912064</td><td>1000</td><td>0.000208607912064</td><td>51</td></tr><tr><td>10</td><td>default</td><td>0.215600013733</td><td>1000</td><td>0.000215600013733</td><td>51</td></tr><tr><td>10</td><td>dc3</td><td>0.306349515915</td><td>1000</td><td>0.000306349515915</td><td>51</td></tr><tr><td>10</td><td>radix sort</td><td>0.323792934418</td><td>1000</td><td>0.000323792934418</td><td>51</td></tr><tr><td>10</td><td>counting sort</td><td>0.360864639282</td><td>1000</td><td>0.000360864639282</td><td>51</td></tr><tr><td>26</td><td>brute</td><td>0.178263187408</td><td>1000</td><td>0.000178263187408</td><td>49</td></tr><tr><td>26</td><td>default</td><td>0.188493728638</td><td>1000</td><td>0.000188493728638</td><td>49</td></tr><tr><td>26</td><td>radix sort</td><td>0.260864019394</td><td>1000</td><td>0.000260864019394</td><td>49</td></tr><tr><td>26</td><td>dc3</td><td>0.275578737259</td><td>1000</td><td>0.000275578737259</td><td>49</td></tr><tr><td>26</td><td>counting sort</td><td>0.35298204422</td><td>1000</td><td>0.00035298204422</td><td>49</td></tr><tr><td>50</td><td>brute</td><td>0.180912494659</td><td>1000</td><td>0.000180912494659</td><td>50</td></tr><tr><td>50</td><td>default</td><td>0.199308156967</td><td>1000</td><td>0.000199308156967</td><td>50</td></tr><tr><td>50</td><td>radix sort</td><td>0.233108282089</td><td>1000</td><td>0.000233108282089</td><td>50</td></tr><tr><td>50</td><td>dc3</td><td>0.248146057129</td><td>1000</td><td>0.000248146057129</td><td>50</td></tr><tr><td>50</td><td>counting sort</td><td>0.342093467712</td><td>1000</td><td>0.000342093467712</td><td>50</td></tr><tr><td>1</td><td>brute</td><td>0.0664718151093</td><td>100</td><td>0.000664718151093</td><td>592</td></tr><tr><td>1</td><td>default</td><td>0.0729486942291</td><td>100</td><td>0.000729486942291</td><td>592</td></tr><tr><td>1</td><td>dc3</td><td>0.521298885345</td><td>100</td><td>0.00521298885345</td><td>592</td></tr><tr><td>1</td><td>counting sort</td><td>0.550998210907</td><td>100</td><td>0.00550998210907</td><td>592</td></tr><tr><td>1</td><td>radix sort</td><td>0.724928379059</td><td>100</td><td>0.00724928379059</td><td>592</td></tr><tr><td>2</td><td>default</td><td>0.390427112579</td><td>100</td><td>0.00390427112579</td><td>557</td></tr><tr><td>2</td><td>dc3</td><td>0.391360044479</td><td>100</td><td>0.00391360044479</td><td>557</td></tr><tr><td>2</td><td>counting sort</td><td>0.510778903961</td><td>100</td><td>0.00510778903961</td><td>557</td></tr><tr><td>2</td><td>brute</td><td>0.62144780159</td><td>100</td><td>0.0062144780159</td><td>557</td></tr><tr><td>2</td><td>radix sort</td><td>0.755307435989</td><td>100</td><td>0.00755307435989</td><td>557</td></tr><tr><td>5</td><td>dc3</td><td>0.310742139816</td><td>100</td><td>0.00310742139816</td><td>539</td></tr><tr><td>5</td><td>default</td><td>0.31489944458</td><td>100</td><td>0.0031489944458</td><td>539</td></tr><tr><td>5</td><td>brute</td><td>0.374823093414</td><td>100</td><td>0.00374823093414</td><td>539</td></tr><tr><td>5</td><td>counting sort</td><td>0.489755630493</td><td>100</td><td>0.00489755630493</td><td>539</td></tr><tr><td>5</td><td>radix sort</td><td>0.55793762207</td><td>100</td><td>0.0055793762207</td><td>539</td></tr><tr><td>10</td><td>dc3</td><td>0.334625720978</td><td>100</td><td>0.00334625720978</td><td>577</td></tr><tr><td>10</td><td>brute</td><td>0.351101398468</td><td>100</td><td>0.00351101398468</td><td>577</td></tr><tr><td>10</td><td>default</td><td>0.357025146484</td><td>100</td><td>0.00357025146484</td><td>577</td></tr><tr><td>10</td><td>radix sort</td><td>0.516727924347</td><td>100</td><td>0.00516727924347</td><td>577</td></tr><tr><td>10</td><td>counting sort</td><td>0.521077632904</td><td>100</td><td>0.00521077632904</td><td>577</td></tr><tr><td>26</td><td>brute</td><td>0.275181531906</td><td>100</td><td>0.00275181531906</td><td>523</td></tr><tr><td>26</td><td>default</td><td>0.281756401062</td><td>100</td><td>0.00281756401062</td><td>523</td></tr><tr><td>26</td><td>dc3</td><td>0.3008852005</td><td>100</td><td>0.003008852005</td><td>523</td></tr><tr><td>26</td><td>radix sort</td><td>0.386237382889</td><td>100</td><td>0.00386237382889</td><td>523</td></tr><tr><td>26</td><td>counting sort</td><td>0.457610607147</td><td>100</td><td>0.00457610607147</td><td>523</td></tr><tr><td>50</td><td>dc3</td><td>0.26465511322</td><td>100</td><td>0.0026465511322</td><td>532</td></tr><tr><td>50</td><td>brute</td><td>0.271721601486</td><td>100</td><td>0.00271721601486</td><td>532</td></tr><tr><td>50</td><td>default</td><td>0.278085231781</td><td>100</td><td>0.00278085231781</td><td>532</td></tr><tr><td>50</td><td>radix sort</td><td>0.352003097534</td><td>100</td><td>0.00352003097534</td><td>532</td></tr><tr><td>50</td><td>counting sort</td><td>0.465754747391</td><td>100</td><td>0.00465754747391</td><td>532</td></tr><tr><td>1</td><td>brute</td><td>0.0572526454926</td><td>10</td><td>0.00572526454926</td><td>5239</td></tr><tr><td>1</td><td>default</td><td>0.0612990856171</td><td>10</td><td>0.00612990856171</td><td>5239</td></tr><tr><td>1</td><td>dc3</td><td>0.452966213226</td><td>10</td><td>0.0452966213226</td><td>5239</td></tr><tr><td>1</td><td>counting sort</td><td>0.670236110687</td><td>10</td><td>0.0670236110687</td><td>5239</td></tr><tr><td>1</td><td>radix sort</td><td>0.830026388168</td><td>10</td><td>0.0830026388168</td><td>5239</td></tr><tr><td>2</td><td>default</td><td>0.430764913559</td><td>10</td><td>0.0430764913559</td><td>6314</td></tr><tr><td>2</td><td>dc3</td><td>0.445979595184</td><td>10</td><td>0.0445979595184</td><td>6314</td></tr><tr><td>2</td><td>counting sort</td><td>0.826117992401</td><td>10</td><td>0.0826117992401</td><td>6314</td></tr><tr><td>2</td><td>radix sort</td><td>1.0377907753</td><td>10</td><td>0.10377907753</td><td>6314</td></tr><tr><td>2</td><td>brute</td><td>1.24740242958</td><td>10</td><td>0.124740242958</td><td>6314</td></tr><tr><td>5</td><td>default</td><td>0.404011011124</td><td>10</td><td>0.0404011011124</td><td>5818</td></tr><tr><td>5</td><td>dc3</td><td>0.495707035065</td><td>10</td><td>0.0495707035065</td><td>5818</td></tr><tr><td>5</td><td>brute</td><td>0.649428844452</td><td>10</td><td>0.0649428844452</td><td>5818</td></tr><tr><td>5</td><td>radix sort</td><td>0.80545091629</td><td>10</td><td>0.080545091629</td><td>5818</td></tr><tr><td>5</td><td>counting sort</td><td>0.869821310043</td><td>10</td><td>0.0869821310043</td><td>5818</td></tr><tr><td>10</td><td>dc3</td><td>0.346086263657</td><td>10</td><td>0.0346086263657</td><td>6034</td></tr><tr><td>10</td><td>default</td><td>0.387617826462</td><td>10</td><td>0.0387617826462</td><td>6034</td></tr><tr><td>10</td><td>brute</td><td>0.56280374527</td><td>10</td><td>0.056280374527</td><td>6034</td></tr><tr><td>10</td><td>radix sort</td><td>0.838883876801</td><td>10</td><td>0.0838883876801</td><td>6034</td></tr><tr><td>10</td><td>counting sort</td><td>1.01463365555</td><td>10</td><td>0.101463365555</td><td>6034</td></tr><tr><td>26</td><td>dc3</td><td>0.361124038696</td><td>10</td><td>0.0361124038696</td><td>5789</td></tr><tr><td>26</td><td>default</td><td>0.371663093567</td><td>10</td><td>0.0371663093567</td><td>5789</td></tr><tr><td>26</td><td>brute</td><td>0.469951152802</td><td>10</td><td>0.0469951152802</td><td>5789</td></tr><tr><td>26</td><td>radix sort</td><td>0.617356777191</td><td>10</td><td>0.0617356777191</td><td>5789</td></tr><tr><td>26</td><td>counting sort</td><td>0.910803318024</td><td>10</td><td>0.0910803318024</td><td>5789</td></tr><tr><td>50</td><td>dc3</td><td>0.429237127304</td><td>10</td><td>0.0429237127304</td><td>7063</td></tr><tr><td>50</td><td>default</td><td>0.44833111763</td><td>10</td><td>0.044833111763</td><td>7063</td></tr><tr><td>50</td><td>brute</td><td>0.548120260239</td><td>10</td><td>0.0548120260239</td><td>7063</td></tr><tr><td>50</td><td>radix sort</td><td>0.728670835495</td><td>10</td><td>0.0728670835495</td><td>7063</td></tr><tr><td>50</td><td>counting sort</td><td>1.18030619621</td><td>10</td><td>0.118030619621</td><td>7063</td></tr><tr><td>1</td><td>brute</td><td>0.329325914383</td><td>3</td><td>0.109775304794</td><td>100000</td></tr><tr><td>1</td><td>default</td><td>0.342445850372</td><td>3</td><td>0.114148616791</td><td>100000</td></tr><tr><td>1</td><td>dc3</td><td>2.80550408363</td><td>3</td><td>0.935168027878</td><td>100000</td></tr><tr><td>1</td><td>counting sort</td><td>4.79872727394</td><td>3</td><td>1.59957575798</td><td>100000</td></tr><tr><td>1</td><td>radix sort</td><td>7.75388884544</td><td>3</td><td>2.58462961515</td><td>100000</td></tr><tr><td>2</td><td>dc3</td><td>2.77689218521</td><td>3</td><td>0.925630728404</td><td>100000</td></tr><tr><td>2</td><td>default</td><td>2.89456009865</td><td>3</td><td>0.964853366216</td><td>100000</td></tr><tr><td>2</td><td>radix sort</td><td>6.30953001976</td><td>3</td><td>2.10317667325</td><td>100000</td></tr><tr><td>2</td><td>brute</td><td>9.68203568459</td><td>3</td><td>3.2273452282</td><td>100000</td></tr><tr><td>2</td><td>counting sort</td><td>10.2515211105</td><td>3</td><td>3.41717370351</td><td>100000</td></tr><tr><td>5</td><td>default</td><td>3.28899693489</td><td>3</td><td>1.09633231163</td><td>100000</td></tr><tr><td>5</td><td>dc3</td><td>3.29987072945</td><td>3</td><td>1.09995690982</td><td>100000</td></tr><tr><td>5</td><td>radix sort</td><td>5.68764901161</td><td>3</td><td>1.89588300387</td><td>100000</td></tr><tr><td>5</td><td>brute</td><td>5.75200819969</td><td>3</td><td>1.91733606656</td><td>100000</td></tr><tr><td>5</td><td>counting sort</td><td>11.4529926777</td><td>3</td><td>3.8176642259</td><td>100000</td></tr><tr><td>10</td><td>dc3</td><td>3.10298490524</td><td>3</td><td>1.03432830175</td><td>100000</td></tr><tr><td>10</td><td>default</td><td>3.1681098938</td><td>3</td><td>1.05603663127</td><td>100000</td></tr><tr><td>10</td><td>brute</td><td>4.62135982513</td><td>3</td><td>1.54045327504</td><td>100000</td></tr><tr><td>10</td><td>radix sort</td><td>5.7165017128</td><td>3</td><td>1.90550057093</td><td>100000</td></tr><tr><td>10</td><td>counting sort</td><td>11.942054987</td><td>3</td><td>3.98068499565</td><td>100000</td></tr><tr><td>26</td><td>default</td><td>2.91066503525</td><td>3</td><td>0.970221678416</td><td>100000</td></tr><tr><td>26</td><td>dc3</td><td>3.15526890755</td><td>3</td><td>1.05175630252</td><td>100000</td></tr><tr><td>26</td><td>brute</td><td>4.088337183</td><td>3</td><td>1.362779061</td><td>100000</td></tr><tr><td>26</td><td>radix sort</td><td>4.8612101078</td><td>3</td><td>1.62040336927</td><td>100000</td></tr><tr><td>26</td><td>counting sort</td><td>12.1643140316</td><td>3</td><td>4.05477134387</td><td>100000</td></tr><tr><td>50</td><td>dc3</td><td>3.12086486816</td><td>3</td><td>1.04028828939</td><td>100000</td></tr><tr><td>50</td><td>default</td><td>3.1732749939</td><td>3</td><td>1.0577583313</td><td>100000</td></tr><tr><td>50</td><td>brute</td><td>3.67114019394</td><td>3</td><td>1.22371339798</td><td>100000</td></tr><tr><td>50</td><td>radix sort</td><td>5.16657209396</td><td>3</td><td>1.72219069799</td><td>100000</td></tr><tr><td>50</td><td>counting sort</td><td>12.1265320778</td><td>3</td><td>4.04217735926</td><td>100000</td></tr></table>"
      ],
      "text/plain": [
       "<IPython.core.display.HTML object>"
      ]
     },
     "metadata": {},
     "output_type": "display_data"
    }
   ],
   "source": [
    "from IPython.display import display, HTML\n",
    "statistics.sort(key=lambda this: (-this['trials'], this['letters'], this['total time']))\n",
    "display(HTML(statistics.to_html()))"
   ]
  },
  {
   "cell_type": "code",
   "execution_count": null,
   "metadata": {
    "collapsed": true
   },
   "outputs": [],
   "source": []
  }
 ],
 "metadata": {
  "kernelspec": {
   "display_name": "Python 2",
   "language": "python",
   "name": "python2"
  },
  "language_info": {
   "codemirror_mode": {
    "name": "ipython",
    "version": 2
   },
   "file_extension": ".py",
   "mimetype": "text/x-python",
   "name": "python",
   "nbconvert_exporter": "python",
   "pygments_lexer": "ipython2",
   "version": "2.7.6"
  }
 },
 "nbformat": 4,
 "nbformat_minor": 0
}
